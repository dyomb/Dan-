{
 "cells": [
  {
   "cell_type": "code",
   "execution_count": 19,
   "id": "b1f96814",
   "metadata": {},
   "outputs": [
    {
     "name": "stdout",
     "output_type": "stream",
     "text": [
      "0.01414213562373095\n"
     ]
    }
   ],
   "source": [
    "import numpy as np\n",
    "\n",
    "def rule3(da, db):\n",
    "    dQ = np.sqrt(da**2+db**2)\n",
    "    return dQ\n",
    "\n",
    "d1 = 1.2\n",
    "d2 = 1.3\n",
    "errd1 = 0.01\n",
    "errd2 = 0.01\n",
    "errdtotal = rule3(errd1,errd2)\n",
    "print(errdtotal)"
   ]
  },
  {
   "cell_type": "code",
   "execution_count": 14,
   "id": "08259385",
   "metadata": {},
   "outputs": [
    {
     "name": "stdout",
     "output_type": "stream",
     "text": [
      "standard dev x= 0.33870669054835956\n",
      "xmean= 1.2833333333333334\n"
     ]
    }
   ],
   "source": [
    "x = np.array([1,2,1.2,1.3,1,1.2])\n",
    "std_x = np.std(x)\n",
    "print (\"standard dev x=\",std_x)\n",
    "xmean = np.average(x)\n",
    "print (\"xmean=\",xmean)"
   ]
  },
  {
   "cell_type": "markdown",
   "id": "ddbedf86",
   "metadata": {},
   "source": [
    "rule3\n",
    "\n",
    "$\\delta Q = \\sqrt{(\\delta A)^2+(\\delta B)^2}$"
   ]
  },
  {
   "cell_type": "markdown",
   "id": "a9ef38d1",
   "metadata": {},
   "source": [
    "rule1 (c.dA):\n",
    "    Q=c*dA\n",
    "    return dQ\n",
    "\n",
    "\n",
    "$\\delta Q =abs(c)$A "
   ]
  },
  {
   "cell_type": "code",
   "execution_count": 15,
   "id": "c46a2d86",
   "metadata": {},
   "outputs": [
    {
     "name": "stdout",
     "output_type": "stream",
     "text": [
      "480\n"
     ]
    }
   ],
   "source": [
    "def rule2 (c, m, A, dA):\n",
    "    dQ=c*m*A**(m-1)*dA\n",
    "    return dQ\n",
    "c=2\n",
    "m=3\n",
    "A=4\n",
    "dA=5\n",
    "dQ=rule2(c, m, A, dA)\n",
    "print (dQ)"
   ]
  },
  {
   "cell_type": "code",
   "execution_count": 18,
   "id": "fbf6df85",
   "metadata": {},
   "outputs": [
    {
     "name": "stdout",
     "output_type": "stream",
     "text": [
      "1.6109003693587012\n"
     ]
    }
   ],
   "source": [
    "import numpy as np\n",
    "\n",
    "def rule4 (c, m,n, A, B, dA, dB, Q):\n",
    "    dQ= Q*np.sqrt((m*(dA/A)**2)+(n*(dB/B)**2))\n",
    "    return dQ \n",
    "c=1\n",
    "m=2\n",
    "n=3\n",
    "A=4\n",
    "B=5\n",
    "dA=.6\n",
    "dB=.7\n",
    "Q=5\n",
    "dQ=rule4(c, m,n, A, B, dA, dB, Q)\n",
    "print (dQ)"
   ]
  },
  {
   "cell_type": "markdown",
   "id": "954e8dd5",
   "metadata": {},
   "source": []
  },
  {
   "cell_type": "code",
   "execution_count": null,
   "id": "46183eeb",
   "metadata": {},
   "outputs": [],
   "source": []
  },
  {
   "cell_type": "code",
   "execution_count": null,
   "id": "d362b749",
   "metadata": {},
   "outputs": [],
   "source": []
  }
 ],
 "metadata": {
  "kernelspec": {
   "display_name": "Python 3",
   "language": "python",
   "name": "python3"
  }
 },
 "nbformat": 4,
 "nbformat_minor": 5
}
